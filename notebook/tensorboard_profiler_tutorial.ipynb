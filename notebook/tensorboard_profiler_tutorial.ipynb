{
  "cells": [
    {
      "cell_type": "code",
      "execution_count": 1,
      "metadata": {
        "collapsed": false
      },
      "outputs": [],
      "source": [
        "%matplotlib inline"
      ]
    },
    {
      "cell_type": "markdown",
      "metadata": {},
      "source": [
        "\n",
        "PyTorch Profiler With TensorBoard\n",
        "====================================\n",
        "This tutorial demonstrates how to use TensorBoard plugin with PyTorch Profiler\n",
        "to detect performance bottlenecks of the model.\n",
        "\n",
        "Introduction\n",
        "------------\n",
        "PyTorch 1.8 includes an updated profiler API capable of \n",
        "recording the CPU side operations as well as the CUDA kernel launches on the GPU side.\n",
        "The profiler can visualize this information\n",
        "in TensorBoard Plugin and provide analysis of the performance bottlenecks.\n",
        "\n",
        "In this tutorial, we will use a simple Resnet model to demonstrate how to\n",
        "use TensorBoard plugin to analyze model performance.\n",
        "\n",
        "Setup\n",
        "-----\n",
        "To install ``torch`` and ``torchvision`` use the following command:\n",
        "\n",
        "::\n",
        "\n",
        "   pip install torch torchvision\n",
        "\n",
        "\n",
        "\n"
      ]
    },
    {
      "cell_type": "markdown",
      "metadata": {},
      "source": [
        "Steps\n",
        "-----\n",
        "\n",
        "1. Prepare the data and model\n",
        "2. Use profiler to record execution events\n",
        "3. Run the profiler\n",
        "4. Use TensorBoard to view results and analyze model performance\n",
        "5. Improve performance with the help of profiler\n",
        "6. Analyze performance with other advanced features\n",
        "\n",
        "1. Prepare the data and model\n",
        "~~~~~~~~~~~~~~~~~~~~~~~~~~~~~~~~~~~~~~~~~~~~~~~~~~~~~~\n",
        "\n",
        "First, import all necessary libraries:\n",
        "\n",
        "\n"
      ]
    },
    {
      "cell_type": "code",
      "execution_count": 2,
      "metadata": {
        "collapsed": false
      },
      "outputs": [],
      "source": [
        "import torch\n",
        "import torch.nn\n",
        "import torch.optim\n",
        "\n",
        "import torch.profiler\n",
        "import torch.utils.data\n",
        "import torchvision.datasets\n",
        "import torchvision.models\n",
        "import torchvision.transforms as T"
      ]
    },
    {
      "cell_type": "markdown",
      "metadata": {},
      "source": [
        "Then prepare the input data. For this tutorial, we use the CIFAR10 dataset.\n",
        "Transform it to the desired format and use DataLoader to load each batch.\n",
        "\n"
      ]
    },
    {
      "cell_type": "code",
      "execution_count": 3,
      "metadata": {},
      "outputs": [],
      "source": [
        "'''\n",
        "產生這個問題的原因在於python本身，pyhon升級到2.7.9以後，引入了一個新特性，當使用urllib打開https的鏈接時，會檢驗一次ssl證書。而當目標網站使用的是自簽名證書時，就會拋出urllib2.URLError的錯誤。（這裡虛擬機就是用的自帶的簽名證書，所以我們從服務器連接vmware時會出現這種錯誤）。\n",
        "\n",
        "解決方法：\n",
        "\n",
        "全局取消證書驗證（當項目對安全性問題不太重視時，推薦使用，可以全局取消證書的驗證，簡易方便）\n",
        "'''\n",
        "import ssl\n",
        "ssl._create_default_https_context = ssl._create_unverified_context"
      ]
    },
    {
      "cell_type": "code",
      "execution_count": 4,
      "metadata": {
        "collapsed": false
      },
      "outputs": [
        {
          "name": "stdout",
          "output_type": "stream",
          "text": [
            "Files already downloaded and verified\n"
          ]
        }
      ],
      "source": [
        "transform = T.Compose(\n",
        "    [T.Resize(224),\n",
        "     T.ToTensor(),\n",
        "     T.Normalize((0.5, 0.5, 0.5), (0.5, 0.5, 0.5))])\n",
        "train_set = torchvision.datasets.CIFAR10(root='./data', train=True, download=True, transform=transform)\n",
        "train_loader = torch.utils.data.DataLoader(train_set, batch_size=32, shuffle=True)"
      ]
    },
    {
      "cell_type": "markdown",
      "metadata": {},
      "source": [
        "Check GPU availability in Pytorch"
      ]
    },
    {
      "cell_type": "markdown",
      "metadata": {},
      "source": []
    },
    {
      "cell_type": "markdown",
      "metadata": {},
      "source": [
        "Next, create Resnet model, loss function, and optimizer objects.\n",
        "To run on GPU, move model and loss to GPU device.\n",
        "\n"
      ]
    },
    {
      "cell_type": "code",
      "execution_count": 5,
      "metadata": {
        "collapsed": false
      },
      "outputs": [
        {
          "data": {
            "text/plain": [
              "ResNet(\n",
              "  (conv1): Conv2d(3, 64, kernel_size=(7, 7), stride=(2, 2), padding=(3, 3), bias=False)\n",
              "  (bn1): BatchNorm2d(64, eps=1e-05, momentum=0.1, affine=True, track_running_stats=True)\n",
              "  (relu): ReLU(inplace=True)\n",
              "  (maxpool): MaxPool2d(kernel_size=3, stride=2, padding=1, dilation=1, ceil_mode=False)\n",
              "  (layer1): Sequential(\n",
              "    (0): BasicBlock(\n",
              "      (conv1): Conv2d(64, 64, kernel_size=(3, 3), stride=(1, 1), padding=(1, 1), bias=False)\n",
              "      (bn1): BatchNorm2d(64, eps=1e-05, momentum=0.1, affine=True, track_running_stats=True)\n",
              "      (relu): ReLU(inplace=True)\n",
              "      (conv2): Conv2d(64, 64, kernel_size=(3, 3), stride=(1, 1), padding=(1, 1), bias=False)\n",
              "      (bn2): BatchNorm2d(64, eps=1e-05, momentum=0.1, affine=True, track_running_stats=True)\n",
              "    )\n",
              "    (1): BasicBlock(\n",
              "      (conv1): Conv2d(64, 64, kernel_size=(3, 3), stride=(1, 1), padding=(1, 1), bias=False)\n",
              "      (bn1): BatchNorm2d(64, eps=1e-05, momentum=0.1, affine=True, track_running_stats=True)\n",
              "      (relu): ReLU(inplace=True)\n",
              "      (conv2): Conv2d(64, 64, kernel_size=(3, 3), stride=(1, 1), padding=(1, 1), bias=False)\n",
              "      (bn2): BatchNorm2d(64, eps=1e-05, momentum=0.1, affine=True, track_running_stats=True)\n",
              "    )\n",
              "  )\n",
              "  (layer2): Sequential(\n",
              "    (0): BasicBlock(\n",
              "      (conv1): Conv2d(64, 128, kernel_size=(3, 3), stride=(2, 2), padding=(1, 1), bias=False)\n",
              "      (bn1): BatchNorm2d(128, eps=1e-05, momentum=0.1, affine=True, track_running_stats=True)\n",
              "      (relu): ReLU(inplace=True)\n",
              "      (conv2): Conv2d(128, 128, kernel_size=(3, 3), stride=(1, 1), padding=(1, 1), bias=False)\n",
              "      (bn2): BatchNorm2d(128, eps=1e-05, momentum=0.1, affine=True, track_running_stats=True)\n",
              "      (downsample): Sequential(\n",
              "        (0): Conv2d(64, 128, kernel_size=(1, 1), stride=(2, 2), bias=False)\n",
              "        (1): BatchNorm2d(128, eps=1e-05, momentum=0.1, affine=True, track_running_stats=True)\n",
              "      )\n",
              "    )\n",
              "    (1): BasicBlock(\n",
              "      (conv1): Conv2d(128, 128, kernel_size=(3, 3), stride=(1, 1), padding=(1, 1), bias=False)\n",
              "      (bn1): BatchNorm2d(128, eps=1e-05, momentum=0.1, affine=True, track_running_stats=True)\n",
              "      (relu): ReLU(inplace=True)\n",
              "      (conv2): Conv2d(128, 128, kernel_size=(3, 3), stride=(1, 1), padding=(1, 1), bias=False)\n",
              "      (bn2): BatchNorm2d(128, eps=1e-05, momentum=0.1, affine=True, track_running_stats=True)\n",
              "    )\n",
              "  )\n",
              "  (layer3): Sequential(\n",
              "    (0): BasicBlock(\n",
              "      (conv1): Conv2d(128, 256, kernel_size=(3, 3), stride=(2, 2), padding=(1, 1), bias=False)\n",
              "      (bn1): BatchNorm2d(256, eps=1e-05, momentum=0.1, affine=True, track_running_stats=True)\n",
              "      (relu): ReLU(inplace=True)\n",
              "      (conv2): Conv2d(256, 256, kernel_size=(3, 3), stride=(1, 1), padding=(1, 1), bias=False)\n",
              "      (bn2): BatchNorm2d(256, eps=1e-05, momentum=0.1, affine=True, track_running_stats=True)\n",
              "      (downsample): Sequential(\n",
              "        (0): Conv2d(128, 256, kernel_size=(1, 1), stride=(2, 2), bias=False)\n",
              "        (1): BatchNorm2d(256, eps=1e-05, momentum=0.1, affine=True, track_running_stats=True)\n",
              "      )\n",
              "    )\n",
              "    (1): BasicBlock(\n",
              "      (conv1): Conv2d(256, 256, kernel_size=(3, 3), stride=(1, 1), padding=(1, 1), bias=False)\n",
              "      (bn1): BatchNorm2d(256, eps=1e-05, momentum=0.1, affine=True, track_running_stats=True)\n",
              "      (relu): ReLU(inplace=True)\n",
              "      (conv2): Conv2d(256, 256, kernel_size=(3, 3), stride=(1, 1), padding=(1, 1), bias=False)\n",
              "      (bn2): BatchNorm2d(256, eps=1e-05, momentum=0.1, affine=True, track_running_stats=True)\n",
              "    )\n",
              "  )\n",
              "  (layer4): Sequential(\n",
              "    (0): BasicBlock(\n",
              "      (conv1): Conv2d(256, 512, kernel_size=(3, 3), stride=(2, 2), padding=(1, 1), bias=False)\n",
              "      (bn1): BatchNorm2d(512, eps=1e-05, momentum=0.1, affine=True, track_running_stats=True)\n",
              "      (relu): ReLU(inplace=True)\n",
              "      (conv2): Conv2d(512, 512, kernel_size=(3, 3), stride=(1, 1), padding=(1, 1), bias=False)\n",
              "      (bn2): BatchNorm2d(512, eps=1e-05, momentum=0.1, affine=True, track_running_stats=True)\n",
              "      (downsample): Sequential(\n",
              "        (0): Conv2d(256, 512, kernel_size=(1, 1), stride=(2, 2), bias=False)\n",
              "        (1): BatchNorm2d(512, eps=1e-05, momentum=0.1, affine=True, track_running_stats=True)\n",
              "      )\n",
              "    )\n",
              "    (1): BasicBlock(\n",
              "      (conv1): Conv2d(512, 512, kernel_size=(3, 3), stride=(1, 1), padding=(1, 1), bias=False)\n",
              "      (bn1): BatchNorm2d(512, eps=1e-05, momentum=0.1, affine=True, track_running_stats=True)\n",
              "      (relu): ReLU(inplace=True)\n",
              "      (conv2): Conv2d(512, 512, kernel_size=(3, 3), stride=(1, 1), padding=(1, 1), bias=False)\n",
              "      (bn2): BatchNorm2d(512, eps=1e-05, momentum=0.1, affine=True, track_running_stats=True)\n",
              "    )\n",
              "  )\n",
              "  (avgpool): AdaptiveAvgPool2d(output_size=(1, 1))\n",
              "  (fc): Linear(in_features=512, out_features=1000, bias=True)\n",
              ")"
            ]
          },
          "execution_count": 5,
          "metadata": {},
          "output_type": "execute_result"
        }
      ],
      "source": [
        "device = torch.device(\"cuda:0\")\n",
        "model = torchvision.models.resnet18(pretrained=True).cuda(device)\n",
        "criterion = torch.nn.CrossEntropyLoss().cuda(device)\n",
        "optimizer = torch.optim.SGD(model.parameters(), lr=0.001, momentum=0.9)\n",
        "model.train()"
      ]
    },
    {
      "cell_type": "markdown",
      "metadata": {},
      "source": [
        "Define the training step for each batch of input data.\n",
        "\n"
      ]
    },
    {
      "cell_type": "code",
      "execution_count": 7,
      "metadata": {
        "collapsed": false
      },
      "outputs": [],
      "source": [
        "def train(data):\n",
        "    inputs, labels = data[0].to(device=device), data[1].to(device=device)\n",
        "    outputs = model(inputs)\n",
        "    loss = criterion(outputs, labels)\n",
        "    optimizer.zero_grad()\n",
        "    loss.backward()\n",
        "    optimizer.step()"
      ]
    },
    {
      "cell_type": "markdown",
      "metadata": {},
      "source": [
        "2. Use profiler to record execution events\n",
        "~~~~~~~~~~~~~~~~~~~~~~~~~~~~~~~~~~~~~~~~~~~~~~~~~~~~~~\n",
        "\n",
        "The profiler is enabled through the context manager and accepts several parameters,\n",
        "some of the most useful are:\n",
        "\n",
        "- ``schedule`` - callable that takes step (int) as a single parameter\n",
        "  and returns the profiler action to perform at each step.\n",
        "\n",
        "  In this example with ``wait=1, warmup=1, active=3, repeat=2``,\n",
        "  profiler will skip the first step/iteration,\n",
        "  start warming up on the second,\n",
        "  record the following three iterations,\n",
        "  after which the trace will become available and on_trace_ready (when set) is called.\n",
        "  In total, the cycle repeats twice. Each cycle is called a \"span\" in TensorBoard plugin.\n",
        "\n",
        "  During ``wait`` steps, the profiler is disabled.\n",
        "  During ``warmup`` steps, the profiler starts tracing but the results are discarded.\n",
        "  This is for reducing the profiling overhead.\n",
        "  The overhead at the beginning of profiling is high and easy to bring skew to the profiling result.\n",
        "  During ``active`` steps, the profiler works and records events.\n",
        "- ``on_trace_ready`` - callable that is called at the end of each cycle;\n",
        "  In this example we use ``torch.profiler.tensorboard_trace_handler`` to generate result files for TensorBoard.\n",
        "  After profiling, result files will be saved into the ``./log/resnet18`` directory.\n",
        "  Specify this directory as a ``logdir`` parameter to analyze profile in TensorBoard.\n",
        "- ``record_shapes`` - whether to record shapes of the operator inputs.\n",
        "- ``profile_memory`` - Track tensor memory allocation/deallocation.\n",
        "- ``with_stack`` - Record source information (file and line number) for the ops.\n",
        "  If the TensorBoard is launched in VSCode (`reference <https://code.visualstudio.com/docs/datascience/pytorch-support#_tensorboard-integration>`_),\n",
        "  clicking a stack frame will navigate to the specific code line.\n",
        "\n"
      ]
    },
    {
      "cell_type": "code",
      "execution_count": 10,
      "metadata": {
        "collapsed": false
      },
      "outputs": [],
      "source": [
        "with torch.profiler.profile(\n",
        "        schedule=torch.profiler.schedule(wait=1, warmup=1, active=3, repeat=2),\n",
        "        on_trace_ready=torch.profiler.tensorboard_trace_handler('./log/resnet18'),\n",
        "        record_shapes=True,\n",
        "        with_stack=True\n",
        ") as prof:\n",
        "    for step, batch_data in enumerate(train_loader):\n",
        "        if step >= (1 + 1 + 3) * 2:\n",
        "            break\n",
        "        train(batch_data)\n",
        "        prof.step()  # Need to call this at the end of each step to notify profiler of steps' boundary."
      ]
    },
    {
      "cell_type": "code",
      "execution_count": 13,
      "metadata": {},
      "outputs": [
        {
          "name": "stderr",
          "output_type": "stream",
          "text": [
            "C:\\Users\\Hinova\\Anaconda3\\envs\\accel\\lib\\site-packages\\torch\\autograd\\profiler.py:440: UserWarning: CUPTI tracing is not available, falling back to legacy CUDA profiling\n",
            "  warn(\"CUPTI tracing is not available, falling back to legacy CUDA profiling\")\n"
          ]
        }
      ],
      "source": [
        "# Option 2\n",
        "with torch.profiler.profile(\n",
        "      activities=[\n",
        "          torch.profiler.ProfilerActivity.CPU,\n",
        "          torch.profiler.ProfilerActivity.CUDA],\n",
        "      schedule=torch.profiler.schedule(\n",
        "        wait=1,\n",
        "        warmup=1,\n",
        "        active=3,\n",
        "        repeat=2),\n",
        "      on_trace_ready=torch.profiler.tensorboard_trace_handler('./log/resnet18', worker_name='worker0'),\n",
        "      record_shapes=True,\n",
        "      profile_memory=True,\n",
        "      with_stack=True\n",
        ") as prof:\n",
        "    for step, batch_data in enumerate(train_loader):\n",
        "        if step >= (1 + 1 + 3) * 2:\n",
        "            break\n",
        "        train(batch_data)\n",
        "        prof.step()  # Need to call this at the end of each step to notify profiler of steps' boundary."
      ]
    },
    {
      "cell_type": "markdown",
      "metadata": {},
      "source": [
        "3. Run the profiler\n",
        "~~~~~~~~~~~~~~~~~~~~~~~~~~~~~~~~~~~~~~~~~~~~~~~~~~~~~~~~~~~~~~\n",
        "\n",
        "Run the above code. The profiling result will be saved under ``./log/resnet18`` directory.\n",
        "\n"
      ]
    },
    {
      "cell_type": "markdown",
      "metadata": {},
      "source": [
        "4. Use TensorBoard to view results and analyze model performance\n",
        "~~~~~~~~~~~~~~~~~~~~~~~~~~~~~~~~~~~~~~~~~~~~~~~~~~~~~~~~~~~~~~\n",
        "\n",
        "Install PyTorch Profiler TensorBoard Plugin.\n",
        "\n",
        "::\n",
        "\n",
        "    pip install torch_tb_profiler\n",
        "\n",
        "Remarks: [torch profiler json has bug](https://github.com/pytorch/kineto/issues/336)\n",
        "For anyone else looking for a workaround:\n",
        "Change line 114 in '\\path_to_python_installation\\Lib\\site-packages\\torch_tb_profiler\\profiler\\data.py'\n",
        "to\n",
        "trace_json = json.loads(data.replace(b\"\\\\\", b\"\\\\\\\\\"), strict=False)\n"
      ]
    },
    {
      "cell_type": "markdown",
      "metadata": {},
      "source": [
        "Launch the TensorBoard.\n",
        "\n",
        "::\n",
        "\n",
        "    tensorboard --logdir=./log\n",
        "\n",
        "\n"
      ]
    },
    {
      "cell_type": "markdown",
      "metadata": {},
      "source": [
        "You could see Profiler plugin page as shown below.\n",
        "\n",
        "- Overview\n",
        "![](../../_static/img/profiler_overview1.png)\n",
        "\n",
        "   :scale: 25 %\n",
        "\n",
        "The overview shows a high-level summary of model performance.\n",
        "\n",
        "The \"GPU Summary\" panel shows the GPU configuration and the GPU usage.\n",
        "In this example, the GPU Utilization is low.\n",
        "The details of these metrics are `here <https://github.com/guyang3532/kineto/blob/readme/tb_plugin/docs/gpu_utilization.md>`_.\n",
        "\n",
        "The \"Step Time Breakdown\" shows distribution of time spent in each step over different categories of execution.\n",
        "In this example, you can see the ``DataLoader`` overhead is significant.\n",
        "\n",
        "The bottom \"Performance Recommendation\" uses the profiling data\n",
        "to automatically highlight likely bottlenecks,\n",
        "and gives you actionable optimization suggestions.\n",
        "\n",
        "You can change the view page in left \"Views\" dropdown list.\n",
        "\n",
        "![](../../_static/img/profiler_views_list.png)\n",
        "\n",
        "\n",
        "- Operator view\n",
        "The operator view displays the performance of every PyTorch operator\n",
        "that is executed either on the host or device.\n",
        "\n",
        "![](../../_static/img/profiler_operator_view.png)\n",
        "\n",
        "   :scale: 25 %\n",
        "The \"Self\" duration does not include its child operators’ time.\n",
        "The \"Total\" duration includes its child operators’ time.\n",
        "\n",
        "- View call stack\n",
        "Click the \"View Callstack\" of an operator, the operators with same name but different call stacks will be shown.\n",
        "Then click a \"View Callstack\" in this sub-table, the call stack frames will be shown.\n",
        "\n",
        "![](../../_static/img/profiler_callstack.png)\n",
        "\n",
        "   :scale: 25 %\n",
        "\n",
        "If the TensorBoard is launched inside VSCode\n",
        "(`Launch Guide <https://devblogs.microsoft.com/python/python-in-visual-studio-code-february-2021-release/#tensorboard-integration>`_),\n",
        "clicking a call stack frame will navigate to the specific code line.\n",
        "\n",
        "![](../../_static/img/profiler_vscode.png)\n",
        "\n",
        "   :scale: 25 %\n",
        "\n",
        "\n",
        "- Kernel view\n",
        "The GPU kernel view shows all kernels’ time spent on GPU.\n",
        "\n",
        "![](../../_static/img/profiler_kernel_view.png)\n",
        "\n",
        "   :scale: 25 %\n",
        "Mean Blocks per SM:\n",
        "Blocks per SM = Blocks of this kernel / SM number of this GPU.\n",
        "If this number is less than 1, it indicates the GPU multiprocessors are not fully utilized.\n",
        "\"Mean Blocks per SM\" is weighted average of all runs of this kernel name, using each run’s duration as weight.\n",
        "\n",
        "Mean Est. Achieved Occupancy:\n",
        "Est. Achieved Occupancy is defined in this column’s tooltip.\n",
        "For most cases such as memory bandwidth bounded kernels, the higher the better.\n",
        "\"Mean Est. Achieved Occupancy\" is weighted average of all runs of this kernel name,\n",
        "using each run’s duration as weight.\n",
        "\n",
        "- Trace view\n",
        "The trace view shows timeline of profiled operators and GPU kernels.\n",
        "You can select it to see details as below.\n",
        "\n",
        "![](../../_static/img/profiler_trace_view1.png)\n",
        "\n",
        "   :scale: 25 %\n",
        "\n",
        "You can move the graph and zoom in/out with the help of right side toolbar.\n",
        "And keyboard can also be used to zoom and move around inside the timeline.\n",
        "The ‘w’ and ‘s’ keys zoom in centered around the mouse,\n",
        "and the ‘a’ and ‘d’ keys move the timeline left and right.\n",
        "You can hit these keys multiple times until you see a readable representation.\n",
        "\n",
        "In this example, we can see the event prefixed with ``enumerate(DataLoader)`` costs a lot of time.\n",
        "And during most of this period, the GPU is idle.\n",
        "Because this function is loading data and transforming data on host side,\n",
        "during which the GPU resource is wasted.\n",
        "\n"
      ]
    },
    {
      "cell_type": "markdown",
      "metadata": {},
      "source": [
        "Open the TensorBoard profile URL in Google Chrome browser or Microsoft Edge browser.\n",
        "\n",
        "::\n",
        "\n",
        "    http://localhost:6006/#pytorch_profiler\n",
        "\n",
        "\n"
      ]
    },
    {
      "cell_type": "markdown",
      "metadata": {},
      "source": [
        "5. Improve performance with the help of profiler\n",
        "~~~~~~~~~~~~~~~~~~~~~~~~~~~~~~~~~~~~~~~~~~~~~~~~~~~~~~~~~~~~~~\n",
        "\n",
        "At the bottom of \"Overview\" page, the suggestion in \"Performance Recommendation\" hints the bottleneck is DataLoader.\n",
        "The PyTorch DataLoader uses single process by default.\n",
        "User could enable multi-process data loading by setting the parameter ``num_workers``.\n",
        "`Here <https://pytorch.org/docs/stable/data.html#single-and-multi-process-data-loading>`_ is more details.\n",
        "\n",
        "In this example, we follow the \"Performance Recommendation\" and set ``num_workers`` as below,\n",
        "pass a different name such as ``./log/resnet18_4workers`` to ``tensorboard_trace_handler``, and run it again.\n",
        "\n",
        "::\n",
        "\n",
        "    train_loader = torch.utils.data.DataLoader(train_set, batch_size=32, shuffle=True, num_workers=4)\n",
        "\n",
        "\n"
      ]
    },
    {
      "cell_type": "markdown",
      "metadata": {},
      "source": [
        "Then let’s choose the recently profiled run in left \"Runs\" dropdown list.\n",
        "\n",
        "![](../../_static/img/profiler_overview2.png)\n",
        "\n",
        "   :scale: 25 %\n",
        "\n",
        "From the above view, we can find the step time is reduced to about 58ms comparing with previous run's 121ms,\n",
        "and the time reduction of ``DataLoader`` mainly contributes.\n",
        "\n",
        "![](../../_static/img/profiler_trace_view2.png)\n",
        "\n",
        "   :scale: 25 %\n",
        "\n",
        "From the above view, we can see that the runtime of ``enumerate(DataLoader)`` is reduced,\n",
        "and the GPU utilization is increased.\n",
        "\n"
      ]
    },
    {
      "cell_type": "markdown",
      "metadata": {},
      "source": [
        "6. Analyze performance with other advanced features\n",
        "~~~~~~~~~~~~~~~~~~~~~~~~~~~~~~~~~~~~~~~~~~~~~~~~~~~~~~~~~~~~~~\n",
        "\n",
        "- Memory view\n",
        "To profile memory, please add ``profile_memory=True`` in arguments of ``torch.profiler.profile``.\n",
        "\n",
        "Note: Because of the current non-optimized implementation of PyTorch profiler,\n",
        "enabling ``profile_memory=True`` will take about several minutes to finish.\n",
        "To save time, you can try our existing examples first by running:\n",
        "\n",
        "::\n",
        "\n",
        "    tensorboard --logdir=https://torchtbprofiler.blob.core.windows.net/torchtbprofiler/demo/memory_demo\n",
        "\n",
        "The profiler records all memory allocation/release events during profiling.\n",
        "For every specific operator, the plugin aggregates all these memory events inside its life span.\n",
        "\n",
        "![](../../_static/img/profiler_memory_view.png)\n",
        "\n",
        "   :scale: 25 %\n",
        "\n",
        "The memory type could be selected in \"Device\" selection box.\n",
        "For example, \"GPU0\" means the following table only shows each operator’s memory usage on GPU 0, not including CPU or other GPUs.\n",
        "\n",
        "The \"Size Increase\" sums up all allocation bytes and minus all the memory release bytes.\n",
        "\n",
        "The \"Allocation Size\" sums up all allocation bytes without considering the memory release.\n",
        "\n",
        "- Distributed view\n",
        "The plugin now supports distributed view on profiling DDP with NCCL as backend.\n",
        "\n",
        "You can try it by using existing example on Azure:\n",
        "\n",
        "::\n",
        "\n",
        "    tensorboard --logdir=https://torchtbprofiler.blob.core.windows.net/torchtbprofiler/demo/distributed_bert\n",
        "\n",
        "![](../../_static/img/profiler_distributed_view.png)\n",
        "\n",
        "   :scale: 25 %\n",
        "\n",
        "The \"Computation/Communication Overview\" shows computation/communication ratio and their overlapping degree.\n",
        "From this view, User can figure out load balance issue among workers.\n",
        "For example, if the computation + overlapping time of one worker is much larger than others,\n",
        "there may be a problem of load balance or this worker may be a straggler.\n",
        "\n",
        "The \"Synchronizing/Communication Overview\" shows the efficiency of communication.\n",
        "\"Data Transfer Time\" is the time for actual data exchanging.\n",
        "\"Synchronizing Time\" is the time for waiting and synchronizing with other workers.\n",
        "\n",
        "If one worker’s \"Synchronizing Time\" is much shorter than that of other workers’,\n",
        "this worker may be a straggler which may have more computation workload than other workers’.\n",
        "\n",
        "The \"Communication Operations Stats\" summarizes the detailed statistics of all communication ops in each worker.\n",
        "\n"
      ]
    },
    {
      "cell_type": "markdown",
      "metadata": {},
      "source": [
        "Learn More\n",
        "----------\n",
        "\n",
        "Take a look at the following documents to continue your learning,\n",
        "and feel free to open an issue `here <https://github.com/pytorch/kineto/issues>`_.\n",
        "\n",
        "-  `Pytorch TensorBoard Profiler github <https://github.com/pytorch/kineto/tree/master/tb_plugin>`_\n",
        "-  `torch.profiler API <https://pytorch.org/docs/master/profiler.html>`_\n",
        "\n"
      ]
    }
  ],
  "metadata": {
    "interpreter": {
      "hash": "0eb800ce02f0265b51ae793480fa210816922dc07a879c154468231a9d68b1f6"
    },
    "kernelspec": {
      "display_name": "Python 3.9.0 64-bit ('accel': conda)",
      "name": "python3"
    },
    "language_info": {
      "codemirror_mode": {
        "name": "ipython",
        "version": 3
      },
      "file_extension": ".py",
      "mimetype": "text/x-python",
      "name": "python",
      "nbconvert_exporter": "python",
      "pygments_lexer": "ipython3",
      "version": "3.9.0"
    }
  },
  "nbformat": 4,
  "nbformat_minor": 0
}
